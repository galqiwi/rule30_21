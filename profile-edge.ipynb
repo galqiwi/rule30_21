{
 "cells": [
  {
   "cell_type": "code",
   "execution_count": 37,
   "id": "dbe02f89",
   "metadata": {},
   "outputs": [],
   "source": [
    "import numpy as np\n",
    "import scipy.stats as sps\n",
    "import seaborn as sns\n",
    "import matplotlib.pyplot as plt\n",
    "import pandas as pd\n",
    "import subprocess"
   ]
  },
  {
   "cell_type": "code",
   "execution_count": 86,
   "id": "7ba96e74",
   "metadata": {},
   "outputs": [],
   "source": [
    "def benchmark(edge_size):\n",
    "    output = subprocess.run(r'rm -rf build && mkdir -p build && cd build && '\n",
    "                            f'cmake -E env CXXFLAGS=\"-O3 -DEDGE_SIZE={edge_size}\" cmake .. && '\n",
    "                            r'make && ./rule30_21', shell=True, capture_output=True)\n",
    "    return float(output.stdout.decode().split()[-1])"
   ]
  },
  {
   "cell_type": "code",
   "execution_count": 53,
   "id": "a80b3e0b",
   "metadata": {},
   "outputs": [],
   "source": [
    "samples = pd.DataFrame()\n",
    "def add_samples(sizes, samples):\n",
    "    for size in sizes:\n",
    "        print(size)\n",
    "        samples = samples.append({\n",
    "            'edge_size': size,\n",
    "            'time': benchmark(int(size)),\n",
    "        }, ignore_index=True)\n",
    "    return samples"
   ]
  },
  {
   "cell_type": "code",
   "execution_count": 87,
   "id": "cefdb392",
   "metadata": {},
   "outputs": [
    {
     "name": "stdout",
     "output_type": "stream",
     "text": [
      "5000.0\n",
      "10000.0\n",
      "15000.0\n",
      "20000.0\n",
      "25000.0\n",
      "30000.0\n",
      "35000.0\n",
      "40000.0\n",
      "45000.0\n",
      "50000.0\n",
      "55000.0\n",
      "60000.0\n",
      "65000.0\n",
      "70000.0\n",
      "75000.0\n",
      "80000.0\n",
      "85000.0\n",
      "90000.0\n",
      "95000.0\n",
      "100000.0\n"
     ]
    },
    {
     "data": {
      "text/html": [
       "<div>\n",
       "<style scoped>\n",
       "    .dataframe tbody tr th:only-of-type {\n",
       "        vertical-align: middle;\n",
       "    }\n",
       "\n",
       "    .dataframe tbody tr th {\n",
       "        vertical-align: top;\n",
       "    }\n",
       "\n",
       "    .dataframe thead th {\n",
       "        text-align: right;\n",
       "    }\n",
       "</style>\n",
       "<table border=\"1\" class=\"dataframe\">\n",
       "  <thead>\n",
       "    <tr style=\"text-align: right;\">\n",
       "      <th></th>\n",
       "      <th>edge_size</th>\n",
       "      <th>time</th>\n",
       "      <th>m_time</th>\n",
       "    </tr>\n",
       "  </thead>\n",
       "  <tbody>\n",
       "    <tr>\n",
       "      <th>0</th>\n",
       "      <td>5000.0</td>\n",
       "      <td>0.025435</td>\n",
       "      <td>1017.384000</td>\n",
       "    </tr>\n",
       "    <tr>\n",
       "      <th>1</th>\n",
       "      <td>10000.0</td>\n",
       "      <td>0.082574</td>\n",
       "      <td>825.738000</td>\n",
       "    </tr>\n",
       "    <tr>\n",
       "      <th>2</th>\n",
       "      <td>15000.0</td>\n",
       "      <td>0.172022</td>\n",
       "      <td>764.542222</td>\n",
       "    </tr>\n",
       "    <tr>\n",
       "      <th>3</th>\n",
       "      <td>20000.0</td>\n",
       "      <td>0.307342</td>\n",
       "      <td>768.355000</td>\n",
       "    </tr>\n",
       "    <tr>\n",
       "      <th>4</th>\n",
       "      <td>25000.0</td>\n",
       "      <td>0.460354</td>\n",
       "      <td>736.566400</td>\n",
       "    </tr>\n",
       "    <tr>\n",
       "      <th>...</th>\n",
       "      <td>...</td>\n",
       "      <td>...</td>\n",
       "      <td>...</td>\n",
       "    </tr>\n",
       "    <tr>\n",
       "      <th>95</th>\n",
       "      <td>80000.0</td>\n",
       "      <td>0.928326</td>\n",
       "      <td>NaN</td>\n",
       "    </tr>\n",
       "    <tr>\n",
       "      <th>96</th>\n",
       "      <td>85000.0</td>\n",
       "      <td>1.045470</td>\n",
       "      <td>NaN</td>\n",
       "    </tr>\n",
       "    <tr>\n",
       "      <th>97</th>\n",
       "      <td>90000.0</td>\n",
       "      <td>1.163680</td>\n",
       "      <td>NaN</td>\n",
       "    </tr>\n",
       "    <tr>\n",
       "      <th>98</th>\n",
       "      <td>95000.0</td>\n",
       "      <td>1.300860</td>\n",
       "      <td>NaN</td>\n",
       "    </tr>\n",
       "    <tr>\n",
       "      <th>99</th>\n",
       "      <td>100000.0</td>\n",
       "      <td>1.499020</td>\n",
       "      <td>NaN</td>\n",
       "    </tr>\n",
       "  </tbody>\n",
       "</table>\n",
       "<p>100 rows × 3 columns</p>\n",
       "</div>"
      ],
      "text/plain": [
       "    edge_size      time       m_time\n",
       "0      5000.0  0.025435  1017.384000\n",
       "1     10000.0  0.082574   825.738000\n",
       "2     15000.0  0.172022   764.542222\n",
       "3     20000.0  0.307342   768.355000\n",
       "4     25000.0  0.460354   736.566400\n",
       "..        ...       ...          ...\n",
       "95    80000.0  0.928326          NaN\n",
       "96    85000.0  1.045470          NaN\n",
       "97    90000.0  1.163680          NaN\n",
       "98    95000.0  1.300860          NaN\n",
       "99   100000.0  1.499020          NaN\n",
       "\n",
       "[100 rows x 3 columns]"
      ]
     },
     "execution_count": 87,
     "metadata": {},
     "output_type": "execute_result"
    }
   ],
   "source": [
    "samples = add_samples(np.linspace(0, 100000, num=21)[1:], samples)\n",
    "samples"
   ]
  },
  {
   "cell_type": "code",
   "execution_count": 88,
   "id": "39f26770",
   "metadata": {},
   "outputs": [
    {
     "data": {
      "text/html": [
       "<div>\n",
       "<style scoped>\n",
       "    .dataframe tbody tr th:only-of-type {\n",
       "        vertical-align: middle;\n",
       "    }\n",
       "\n",
       "    .dataframe tbody tr th {\n",
       "        vertical-align: top;\n",
       "    }\n",
       "\n",
       "    .dataframe thead th {\n",
       "        text-align: right;\n",
       "    }\n",
       "</style>\n",
       "<table border=\"1\" class=\"dataframe\">\n",
       "  <thead>\n",
       "    <tr style=\"text-align: right;\">\n",
       "      <th></th>\n",
       "      <th>edge_size</th>\n",
       "      <th>time</th>\n",
       "      <th>m_time</th>\n",
       "    </tr>\n",
       "  </thead>\n",
       "  <tbody>\n",
       "    <tr>\n",
       "      <th>0</th>\n",
       "      <td>5000.0</td>\n",
       "      <td>0.025435</td>\n",
       "      <td>1017.384000</td>\n",
       "    </tr>\n",
       "    <tr>\n",
       "      <th>1</th>\n",
       "      <td>10000.0</td>\n",
       "      <td>0.082574</td>\n",
       "      <td>825.738000</td>\n",
       "    </tr>\n",
       "    <tr>\n",
       "      <th>2</th>\n",
       "      <td>15000.0</td>\n",
       "      <td>0.172022</td>\n",
       "      <td>764.542222</td>\n",
       "    </tr>\n",
       "    <tr>\n",
       "      <th>3</th>\n",
       "      <td>20000.0</td>\n",
       "      <td>0.307342</td>\n",
       "      <td>768.355000</td>\n",
       "    </tr>\n",
       "    <tr>\n",
       "      <th>4</th>\n",
       "      <td>25000.0</td>\n",
       "      <td>0.460354</td>\n",
       "      <td>736.566400</td>\n",
       "    </tr>\n",
       "    <tr>\n",
       "      <th>...</th>\n",
       "      <td>...</td>\n",
       "      <td>...</td>\n",
       "      <td>...</td>\n",
       "    </tr>\n",
       "    <tr>\n",
       "      <th>95</th>\n",
       "      <td>80000.0</td>\n",
       "      <td>0.928326</td>\n",
       "      <td>145.050938</td>\n",
       "    </tr>\n",
       "    <tr>\n",
       "      <th>96</th>\n",
       "      <td>85000.0</td>\n",
       "      <td>1.045470</td>\n",
       "      <td>144.701730</td>\n",
       "    </tr>\n",
       "    <tr>\n",
       "      <th>97</th>\n",
       "      <td>90000.0</td>\n",
       "      <td>1.163680</td>\n",
       "      <td>143.664198</td>\n",
       "    </tr>\n",
       "    <tr>\n",
       "      <th>98</th>\n",
       "      <td>95000.0</td>\n",
       "      <td>1.300860</td>\n",
       "      <td>144.139612</td>\n",
       "    </tr>\n",
       "    <tr>\n",
       "      <th>99</th>\n",
       "      <td>100000.0</td>\n",
       "      <td>1.499020</td>\n",
       "      <td>149.902000</td>\n",
       "    </tr>\n",
       "  </tbody>\n",
       "</table>\n",
       "<p>100 rows × 3 columns</p>\n",
       "</div>"
      ],
      "text/plain": [
       "    edge_size      time       m_time\n",
       "0      5000.0  0.025435  1017.384000\n",
       "1     10000.0  0.082574   825.738000\n",
       "2     15000.0  0.172022   764.542222\n",
       "3     20000.0  0.307342   768.355000\n",
       "4     25000.0  0.460354   736.566400\n",
       "..        ...       ...          ...\n",
       "95    80000.0  0.928326   145.050938\n",
       "96    85000.0  1.045470   144.701730\n",
       "97    90000.0  1.163680   143.664198\n",
       "98    95000.0  1.300860   144.139612\n",
       "99   100000.0  1.499020   149.902000\n",
       "\n",
       "[100 rows x 3 columns]"
      ]
     },
     "execution_count": 88,
     "metadata": {},
     "output_type": "execute_result"
    }
   ],
   "source": [
    "samples['m_time'] = samples.time * (1e6 / samples.edge_size) ** 2\n",
    "samples"
   ]
  },
  {
   "cell_type": "code",
   "execution_count": 89,
   "id": "b914119c",
   "metadata": {},
   "outputs": [
    {
     "data": {
      "text/plain": [
       "<matplotlib.collections.PathCollection at 0x7f03dd60aee0>"
      ]
     },
     "execution_count": 89,
     "metadata": {},
     "output_type": "execute_result"
    },
    {
     "data": {
      "image/png": "[encoded data removed]",
      "text/plain": [
       "<Figure size 432x288 with 1 Axes>"
      ]
     },
     "metadata": {
      "needs_background": "light"
     },
     "output_type": "display_data"
    }
   ],
   "source": [
    "ax = plt.axis()\n",
    "plt.yscale('log')\n",
    "plt.xscale('log')\n",
    "plt.scatter(samples.edge_size ** 2, samples.time)"
   ]
  },
  {
   "cell_type": "code",
   "execution_count": 90,
   "id": "88509de2",
   "metadata": {},
   "outputs": [
    {
     "data": {
      "text/plain": [
       "<matplotlib.collections.PathCollection at 0x7f03dd6fb820>"
      ]
     },
     "execution_count": 90,
     "metadata": {},
     "output_type": "execute_result"
    },
    {
     "data": {
      "image/png": "[encoded data removed]",
      "text/plain": [
       "<Figure size 432x288 with 1 Axes>"
      ]
     },
     "metadata": {
      "needs_background": "light"
     },
     "output_type": "display_data"
    }
   ],
   "source": [
    "ax = plt.axis()\n",
    "plt.yscale('log')\n",
    "plt.xscale('log')\n",
    "plt.scatter(samples.edge_size ** 2, samples.m_time)"
   ]
  },
  {
   "cell_type": "code",
   "execution_count": 91,
   "id": "a4722107",
   "metadata": {},
   "outputs": [
    {
     "data": {
      "text/plain": [
       "<matplotlib.collections.PathCollection at 0x7f03dd4f3eb0>"
      ]
     },
     "execution_count": 91,
     "metadata": {},
     "output_type": "execute_result"
    },
    {
     "data": {
      "image/png": "[encoded data removed]",
      "text/plain": [
       "<Figure size 432x288 with 1 Axes>"
      ]
     },
     "metadata": {
      "needs_background": "light"
     },
     "output_type": "display_data"
    }
   ],
   "source": [
    "ax = plt.axis()\n",
    "# plt.yscale('log')\n",
    "# plt.xscale('log')\n",
    "plt.scatter(samples.edge_size ** 2, samples.time)"
   ]
  }
 ],
 "metadata": {
  "kernelspec": {
   "display_name": "Python 3",
   "language": "python",
   "name": "python3"
  },
  "language_info": {
   "codemirror_mode": {
    "name": "ipython",
    "version": 3
   },
   "file_extension": ".py",
   "mimetype": "text/x-python",
   "name": "python",
   "nbconvert_exporter": "python",
   "pygments_lexer": "ipython3",
   "version": "3.9.5"
  }
 },
 "nbformat": 4,
 "nbformat_minor": 5
}
